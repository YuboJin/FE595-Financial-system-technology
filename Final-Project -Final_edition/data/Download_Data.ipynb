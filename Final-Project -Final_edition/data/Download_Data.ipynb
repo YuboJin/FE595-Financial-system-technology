{
 "cells": [
  {
   "cell_type": "code",
   "execution_count": 5,
   "metadata": {
    "collapsed": true
   },
   "outputs": [],
   "source": [
    "import pandas as pd\n",
    "from pandas_datareader.data import DataReader\n",
    "import numpy as np\n",
    "from datetime import datetime"
   ]
  },
  {
   "cell_type": "code",
   "execution_count": 29,
   "metadata": {
    "collapsed": true
   },
   "outputs": [],
   "source": [
    "def download_data(start, end, ticker):\n",
    "    data = pd.DataFrame()\n",
    "    for i in ticker:\n",
    "        data[i] = (DataReader(i, 'yahoo', start, end).Close).pct_change()[1:]\n",
    "    return data"
   ]
  },
  {
   "cell_type": "code",
   "execution_count": 26,
   "metadata": {
    "collapsed": true
   },
   "outputs": [],
   "source": [
    "ticker = ['XLV', 'XLF', 'SOXX', 'IYT', 'USO', 'ITA', 'VGT', 'XLU', 'ITB', 'GLD', 'AGG', 'DBA', 'UUP', 'KIE', 'SPY']\n",
    "start = datetime(2007, 3, 1)\n",
    "end = datetime(2018,10,31)"
   ]
  },
  {
   "cell_type": "code",
   "execution_count": 18,
   "metadata": {
    "collapsed": true
   },
   "outputs": [],
   "source": [
    "FF = DataReader('F-F_Research_Data_Factors_daily', 'famafrench', start, end)[0][1:]/100"
   ]
  },
  {
   "cell_type": "code",
   "execution_count": null,
   "metadata": {
    "collapsed": true
   },
   "outputs": [],
   "source": [
    "data = download_data(start, end, ticker)[:-1]"
   ]
  },
  {
   "cell_type": "code",
   "execution_count": null,
   "metadata": {
    "collapsed": true
   },
   "outputs": [],
   "source": [
    "d = pd.concat([FF, data],axis=1)\n",
    "d.to_csv('data.csv')"
   ]
  }
 ],
 "metadata": {
  "kernelspec": {
   "display_name": "Python 3",
   "language": "python",
   "name": "python3"
  },
  "language_info": {
   "codemirror_mode": {
    "name": "ipython",
    "version": 3
   },
   "file_extension": ".py",
   "mimetype": "text/x-python",
   "name": "python",
   "nbconvert_exporter": "python",
   "pygments_lexer": "ipython3",
   "version": "3.6.3"
  }
 },
 "nbformat": 4,
 "nbformat_minor": 2
}
